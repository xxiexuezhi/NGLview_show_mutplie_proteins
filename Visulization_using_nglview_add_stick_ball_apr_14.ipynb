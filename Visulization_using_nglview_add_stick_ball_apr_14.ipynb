{
 "cells": [
  {
   "cell_type": "code",
   "execution_count": 6,
   "metadata": {},
   "outputs": [
    {
     "data": {
      "application/vnd.jupyter.widget-view+json": {
       "model_id": "bb5f6a612a2f45d1a164c9470e71c514",
       "version_major": 2,
       "version_minor": 0
      },
      "text/plain": []
     },
     "metadata": {},
     "output_type": "display_data"
    }
   ],
   "source": [
    "import nglview as nv\n",
    "from Bio.PDB import PDBParser"
   ]
  },
  {
   "cell_type": "code",
   "execution_count": null,
   "metadata": {},
   "outputs": [],
   "source": [
    "saved_filename  = \"target50_pdb3g2j.ent.cA.h15.pdb\"\n",
    "parser = PDBParser()\n",
    "structure = parser.get_structure(\"x\",saved_filename)\n",
    "view5 = nv.show_biopython(structure)"
   ]
  },
  {
   "cell_type": "code",
   "execution_count": null,
   "metadata": {},
   "outputs": [],
   "source": [
    "view5"
   ]
  },
  {
   "cell_type": "code",
   "execution_count": null,
   "metadata": {},
   "outputs": [],
   "source": [
    "view5.add_ball_and_stick('344')\n",
    "view5.add_ball_and_stick('352')"
   ]
  },
  {
   "cell_type": "code",
   "execution_count": null,
   "metadata": {},
   "outputs": [],
   "source": [
    "view5.add_label('344',radius=1, label_type=\"atomname\")\n",
    "view5.add_label('352',radius=1, label_type=\"atomname\")"
   ]
  },
  {
   "cell_type": "code",
   "execution_count": null,
   "metadata": {},
   "outputs": [],
   "source": [
    "saved_filename  = \"target_50.pdb\"\n",
    "parser = PDBParser()\n",
    "structure = parser.get_structure(\"x\",saved_filename)\n",
    "view4 = nv.show_biopython(structure)"
   ]
  },
  {
   "cell_type": "code",
   "execution_count": null,
   "metadata": {},
   "outputs": [],
   "source": [
    "view4 "
   ]
  },
  {
   "cell_type": "code",
   "execution_count": null,
   "metadata": {},
   "outputs": [],
   "source": [
    "view4.add_licorice(\"2\")"
   ]
  },
  {
   "cell_type": "code",
   "execution_count": null,
   "metadata": {},
   "outputs": [],
   "source": []
  },
  {
   "cell_type": "code",
   "execution_count": 2,
   "metadata": {},
   "outputs": [],
   "source": [
    "import MDAnalysis as mda\n",
    "dict_lev1_2 = {'ARG': ['NH1', 'CZ', 'NE'],\n",
    " 'THR': ['CB', 'CG2', 'CA'],\n",
    " 'ASP': ['CG', 'OD1', 'CB'],\n",
    " 'TYR': ['CZ', 'OH', 'CB', 'CG', 'CD2'],\n",
    " 'PHE': ['CB', 'CG', 'CD2'],\n",
    " 'GLU': ['CD', 'OE1', 'CG'],\n",
    " 'ILE': ['CG1', 'CD1', 'CB'],\n",
    " 'LEU': ['CG', 'CD2', 'CB'],\n",
    " 'LYS': ['CE', 'NZ', 'CD'],\n",
    " 'CYS': ['CB', 'SG', 'CA'],\n",
    " 'SER': ['CB', 'OG', 'CA'],\n",
    " 'ASN': ['CG', 'OD1', 'CB'],\n",
    " 'MET': ['SD', 'CE', 'CG'],\n",
    " 'GLN': ['CD', 'NE2', 'CG'],\n",
    " 'PRO': ['CB', 'CG', 'CA'],\n",
    " 'HIS': ['CB', 'CG', 'ND1'],\n",
    " 'TRP': ['CB', 'CG', 'CD2'],\n",
    " 'VAL': ['CA', 'CB'],\n",
    " 'GLY': ['CA'],\n",
    " 'ALA': ['CA', 'CB']}\n",
    "\n",
    "def get_mainchain_ag(file_address):\n",
    "    #take a pdb file return the main chain atom group as N, CA,C \n",
    "    u2 = mda.Universe(file_address, topology_format='PDB')\n",
    "    mc_protein = u2.select_atoms(\"name N CA C\")\n",
    "    return mc_protein\n",
    "\n",
    "\n",
    "def get_lev1_ag(file_address):\n",
    "    u2 = mda.Universe(file_address, topology_format='PDB')\n",
    "    protein = u2.select_atoms(\"all\")\n",
    "    index = []\n",
    "    for atom in protein:\n",
    "        if atom.name in dict_lev1_2[atom.resname.upper()]:\n",
    "            index.append(atom.index)\n",
    "    return protein[index]\n",
    "\n",
    "\n",
    "def get_all_sidechain(file_address):\n",
    "    u2 = mda.Universe(file_address, topology_format='PDB')\n",
    "    protein = u2.select_atoms(\"all and not backbone\")\n",
    "    return protein"
   ]
  },
  {
   "cell_type": "code",
   "execution_count": null,
   "metadata": {},
   "outputs": [],
   "source": [
    "parser = PDBParser()\n",
    "structure = parser.get_structure(\"x\",\"target_50.pdb\")\n",
    "view4 = nv.show_biopython(structure)\n",
    "\n",
    "sd_index = get_sidechain_index(saved_filename)\n",
    "\n",
    "view4.add_ball_and_stick(selection=[\"8\",\"10\",\"9\",\"51\",\"53\"],color = \"red\") # must start with 0 so -1?\n",
    "view4.add_label(selection=[\"8\",\"10\",\"9\",\"51\",\"53\"],radius = 1, color = \"white\", label_type=\"atomname\")"
   ]
  },
  {
   "cell_type": "code",
   "execution_count": null,
   "metadata": {},
   "outputs": [],
   "source": [
    "view4.add_trajectory(protein[[6,7,8,47-1,49-1]],component=2)\n",
    "view4.add_ball_and_stick(component=2,color = \"blue\")\n",
    "view4.add_label(component=2, radius=1,label_type='atomname')"
   ]
  },
  {
   "cell_type": "code",
   "execution_count": null,
   "metadata": {},
   "outputs": [],
   "source": [
    "view4                      #j=0, Mainchain is from encoded and decoded target 50. \n",
    "                           #The red is for target 50. Grey is for G_data (j=0)\n"
   ]
  },
  {
   "cell_type": "code",
   "execution_count": null,
   "metadata": {},
   "outputs": [],
   "source": [
    "side_level_atoms = ['CG1',\n",
    " 'CD1',\n",
    " 'CG',\n",
    " 'NH1',\n",
    " 'CD2',\n",
    " 'OD1',\n",
    " 'ND1',\n",
    " 'CZ',\n",
    " 'OH',\n",
    " 'CD',\n",
    " 'NE2',\n",
    " 'SD',\n",
    " 'SG',\n",
    " 'CG2',\n",
    " 'OG',\n",
    " 'CB',\n",
    " 'CE',\n",
    "# 'CA',\n",
    " 'NZ',\n",
    " 'OE1']\n",
    "\n",
    "def get_sidechain_index(file_address):\n",
    "    u2 = mda.Universe(file_address, topology_format='PDB')\n",
    "    index = 1 \n",
    "    lst_str_sidechain_index = []\n",
    "    for atom in u2.atoms:\n",
    "        if (atom.name in side_level_atoms):\n",
    "            lst_str_sidechain_index.append(str(index))\n",
    "        index+=1    \n",
    "    return lst_str_sidechain_index\n",
    "\n"
   ]
  },
  {
   "cell_type": "code",
   "execution_count": null,
   "metadata": {},
   "outputs": [],
   "source": [
    "sd_index"
   ]
  },
  {
   "cell_type": "code",
   "execution_count": null,
   "metadata": {},
   "outputs": [],
   "source": [
    "saved_filename = \"target_50.pdb\"\n",
    "mc=get_mainchain_ag(saved_filename)\n",
    "t = nv.MDAnalysisTrajectory(mc)\n",
    "wc = nv.NGLWidget(t)\n",
    "\n",
    "rotamer_ag = get_lev1_ag(saved_filename)\n",
    "wc.add_trajectory(rotamer_ag,component=1)\n",
    "wc.add_ball_and_stick(component=1)\n",
    "wc.add_label(component=1, radius=2,label_type='atomname')\n",
    "b"
   ]
  },
  {
   "cell_type": "code",
   "execution_count": null,
   "metadata": {},
   "outputs": [],
   "source": [
    "j=0\n",
    "g_saved_filename = \"/home/xxie92/Desktop/backup_for_dell_15/pdb_projects/code/jupterNotebooks/Mar_2021/visulization_constraint_model_res_0324/decoder/generate_data_from_model/same_2_and_10_aa_\"+\"_\"+str(j)+\".pdb\""
   ]
  },
  {
   "cell_type": "code",
   "execution_count": null,
   "metadata": {},
   "outputs": [],
   "source": [
    "parser = PDBParser()\n",
    "structure = parser.get_structure(\"x\",g_saved_filename)\n",
    "viewx = nv.show_biopython(structure)\n",
    "\n",
    "# sd_index = get_sidechain_index(saved_filename)\n",
    "\n",
    "# viewx.add_ball_and_stick(selection=[\"8\",\"10\",\"9\",\"51\",\"53\"]) # must start with 0 so -1?\n",
    "# viewx.add_label(selection=[\"8\",\"10\",\"9\",\"51\",\"53\"],radius = 1, color = \"white\", label_type=\"atomname\")"
   ]
  },
  {
   "cell_type": "code",
   "execution_count": null,
   "metadata": {
    "scrolled": true
   },
   "outputs": [],
   "source": [
    "viewx                    #j=0,backbone from g_data, ball labed with red is from target50.pdb"
   ]
  },
  {
   "cell_type": "code",
   "execution_count": null,
   "metadata": {},
   "outputs": [],
   "source": [
    "\n",
    "\n",
    "viewx.add_trajectory(protein_target[[8,10,9,51,53]],component=2,color = 'red')\n",
    "viewx.add_ball_and_stick(component=2,color=\"blue\")\n",
    "viewx.add_label(component=2, radius=1,color='red', label_type='atomname')"
   ]
  },
  {
   "cell_type": "code",
   "execution_count": null,
   "metadata": {},
   "outputs": [],
   "source": [
    "viewx.add_ball_and_stick(selection=[\"6\",\"7\",\"8\",str(47-1),str(49-1)]) # must start with 0 so -1?\n",
    "viewx.add_label(selection=[\"6\",\"7\",\"8\",str(47-1),str(49-1)],radius = 1, color = \"white\", label_type=\"atomname\")"
   ]
  },
  {
   "cell_type": "code",
   "execution_count": null,
   "metadata": {},
   "outputs": [],
   "source": [
    "def get_sidechain_index(file_address):\n",
    "    u2 = mda.Universe(file_address, topology_format='PDB')\n",
    "    index = 0\n",
    "    lst_str_sidechain_index = []\n",
    "    for atom in u2.atoms:\n",
    "        if (atom.name in side_level_atoms):\n",
    "            lst_str_sidechain_index.append(str(index))\n",
    "        index+=1    \n",
    "    return lst_str_sidechain_index"
   ]
  },
  {
   "cell_type": "code",
   "execution_count": null,
   "metadata": {},
   "outputs": [],
   "source": [
    "get_sidechain_index(g_saved_filename)"
   ]
  },
  {
   "cell_type": "code",
   "execution_count": null,
   "metadata": {},
   "outputs": [],
   "source": [
    "j=0\n",
    "g_saved_filename = \"/home/xxie92/Desktop/backup_for_dell_15/pdb_projects/code/jupterNotebooks/Mar_2021/visulization_constraint_model_res_0324/decoder/generate_data_from_model/same_2_and_10_aa_\"+\"_\"+str(j)+\".pdb\"\n",
    "u2_j0 = mda.Universe(g_saved_filename, topology_format='PDB')\n",
    "protein = u2_j0.select_atoms(\"all\")\n",
    "index = []"
   ]
  },
  {
   "cell_type": "code",
   "execution_count": null,
   "metadata": {},
   "outputs": [],
   "source": [
    "for atom in protein[[6,7,8,47-1,49-1]]:\n",
    "    print(atom)"
   ]
  },
  {
   "cell_type": "code",
   "execution_count": null,
   "metadata": {},
   "outputs": [],
   "source": []
  },
  {
   "cell_type": "code",
   "execution_count": null,
   "metadata": {},
   "outputs": [],
   "source": [
    "for atom in protein_target[[8,10,9,51,53]]:\n",
    "    print(atom)"
   ]
  },
  {
   "cell_type": "code",
   "execution_count": 3,
   "metadata": {},
   "outputs": [
    {
     "ename": "NameError",
     "evalue": "name 'protein_target' is not defined",
     "output_type": "error",
     "traceback": [
      "\u001b[0;31m---------------------------------------------------------------------------\u001b[0m",
      "\u001b[0;31mNameError\u001b[0m                                 Traceback (most recent call last)",
      "\u001b[0;32m<ipython-input-3-e5f8c42db99b>\u001b[0m in \u001b[0;36m<module>\u001b[0;34m\u001b[0m\n\u001b[1;32m      4\u001b[0m \u001b[0;34m\u001b[0m\u001b[0m\n\u001b[1;32m      5\u001b[0m \u001b[0;34m\u001b[0m\u001b[0m\n\u001b[0;32m----> 6\u001b[0;31m \u001b[0mwc\u001b[0m\u001b[0;34m.\u001b[0m\u001b[0madd_trajectory\u001b[0m\u001b[0;34m(\u001b[0m\u001b[0mprotein_target\u001b[0m\u001b[0;34m[\u001b[0m\u001b[0;34m[\u001b[0m\u001b[0;36m8\u001b[0m\u001b[0;34m,\u001b[0m\u001b[0;36m10\u001b[0m\u001b[0;34m,\u001b[0m\u001b[0;36m9\u001b[0m\u001b[0;34m,\u001b[0m\u001b[0;36m51\u001b[0m\u001b[0;34m,\u001b[0m\u001b[0;36m53\u001b[0m\u001b[0;34m]\u001b[0m\u001b[0;34m]\u001b[0m\u001b[0;34m,\u001b[0m\u001b[0mcomponent\u001b[0m\u001b[0;34m=\u001b[0m\u001b[0;36m1\u001b[0m\u001b[0;34m)\u001b[0m\u001b[0;34m\u001b[0m\u001b[0;34m\u001b[0m\u001b[0m\n\u001b[0m\u001b[1;32m      7\u001b[0m \u001b[0mwc\u001b[0m\u001b[0;34m.\u001b[0m\u001b[0madd_ball_and_stick\u001b[0m\u001b[0;34m(\u001b[0m\u001b[0mcomponent\u001b[0m\u001b[0;34m=\u001b[0m\u001b[0;36m1\u001b[0m\u001b[0;34m,\u001b[0m \u001b[0mcolor\u001b[0m \u001b[0;34m=\u001b[0m\u001b[0;34m\"red\"\u001b[0m\u001b[0;34m)\u001b[0m\u001b[0;34m\u001b[0m\u001b[0;34m\u001b[0m\u001b[0m\n\u001b[1;32m      8\u001b[0m \u001b[0mwc\u001b[0m\u001b[0;34m.\u001b[0m\u001b[0madd_label\u001b[0m\u001b[0;34m(\u001b[0m\u001b[0mcomponent\u001b[0m\u001b[0;34m=\u001b[0m\u001b[0;36m1\u001b[0m\u001b[0;34m,\u001b[0m \u001b[0mradius\u001b[0m\u001b[0;34m=\u001b[0m\u001b[0;36m1\u001b[0m\u001b[0;34m,\u001b[0m\u001b[0mlabel_type\u001b[0m\u001b[0;34m=\u001b[0m\u001b[0;34m'atomname'\u001b[0m\u001b[0;34m,\u001b[0m\u001b[0mcolor\u001b[0m \u001b[0;34m=\u001b[0m\u001b[0;34m\"red\"\u001b[0m\u001b[0;34m)\u001b[0m\u001b[0;34m\u001b[0m\u001b[0;34m\u001b[0m\u001b[0m\n",
      "\u001b[0;31mNameError\u001b[0m: name 'protein_target' is not defined"
     ]
    }
   ],
   "source": [
    "mc=get_mainchain_ag(\"target_50.pdb\")\n",
    "t = nv.MDAnalysisTrajectory(mc)\n",
    "wc = nv.NGLWidget(t)\n",
    "\n",
    "\n",
    "wc.add_trajectory(protein_target[[8,10,9,51,53]],component=1)\n",
    "wc.add_ball_and_stick(component=1, color =\"red\")\n",
    "wc.add_label(component=1, radius=1,label_type='atomname',color =\"red\")\n",
    "\n",
    "\n",
    "wc.add_trajectory(protein[[6,7,8,47-1,49-1]],component=2)\n",
    "wc.add_ball_and_stick(component=2, color =\"white\")\n",
    "wc.add_label(component=2, radius=1,label_type='atomname')"
   ]
  },
  {
   "cell_type": "code",
   "execution_count": 7,
   "metadata": {},
   "outputs": [],
   "source": [
    "wc.background = 'white'"
   ]
  },
  {
   "cell_type": "code",
   "execution_count": 19,
   "metadata": {},
   "outputs": [
    {
     "data": {
      "application/vnd.jupyter.widget-view+json": {
       "model_id": "5c1582b8aba443299c713b33f9c5d4fd",
       "version_major": 2,
       "version_minor": 0
      },
      "text/plain": [
       "NGLWidget()"
      ]
     },
     "metadata": {},
     "output_type": "display_data"
    }
   ],
   "source": [
    "wc"
   ]
  },
  {
   "cell_type": "code",
   "execution_count": 18,
   "metadata": {},
   "outputs": [],
   "source": [
    "mc=get_mainchain_ag(\"target_50.pdb\")\n",
    "t = nv.MDAnalysisTrajectory(mc)\n",
    "wc = nv.NGLWidget(t)\n",
    "\n",
    "wc.clear()\n",
    "\n",
    "pred_ag = protein_target[[8,10,9,51,53]]\n",
    "wc.add_trajectory(pred_ag,component=1)\n",
    "wc.add_ball_and_stick(color = 'cyan',component=1)\n",
    "wc.add_label(component=1, radius=1, label_type='atomname')\n",
    "\n",
    "sidechain_ag = protein[[6,7,8,47-1,49-1]]\n",
    "wc.add_trajectory(sidechain_ag,component=2)\n",
    "wc.add_ball_and_stick(color = 'blue',component=2)\n",
    "wc.add_label(component=2, radius=1, label_type='atomname')\n"
   ]
  },
  {
   "cell_type": "code",
   "execution_count": 16,
   "metadata": {},
   "outputs": [],
   "source": [
    "import ipywidgets\n",
    "vbox = ipywidgets.VBox([wc])"
   ]
  },
  {
   "cell_type": "code",
   "execution_count": 17,
   "metadata": {},
   "outputs": [
    {
     "data": {
      "application/vnd.jupyter.widget-view+json": {
       "model_id": "6a3303d29ed64d9eb66ae6cd61719c68",
       "version_major": 2,
       "version_minor": 0
      },
      "text/plain": [
       "VBox(children=(NGLWidget(n_components=3),))"
      ]
     },
     "metadata": {},
     "output_type": "display_data"
    }
   ],
   "source": [
    "vbox"
   ]
  },
  {
   "cell_type": "code",
   "execution_count": null,
   "metadata": {},
   "outputs": [],
   "source": [
    "def get_all_sidechain(file_address):\n",
    "    u2 = mda.Universe(file_address, topology_format='PDB')\n",
    "    protein = u2.select_atoms(\"all and not backbone\")\n",
    "    return protein"
   ]
  },
  {
   "cell_type": "code",
   "execution_count": null,
   "metadata": {},
   "outputs": [],
   "source": [
    "get_all_sidechain(\"target_50.pdb\")"
   ]
  },
  {
   "cell_type": "code",
   "execution_count": null,
   "metadata": {},
   "outputs": [],
   "source": [
    "for atom in get_all_sidechain(\"target_50.pdb\"):\n",
    "    print(atom)"
   ]
  },
  {
   "cell_type": "code",
   "execution_count": null,
   "metadata": {},
   "outputs": [],
   "source": [
    "protein_target[[8,10,9,51,53]]"
   ]
  },
  {
   "cell_type": "code",
   "execution_count": null,
   "metadata": {},
   "outputs": [],
   "source": [
    "wc"
   ]
  },
  {
   "cell_type": "code",
   "execution_count": 4,
   "metadata": {},
   "outputs": [],
   "source": [
    "u_target = mda.Universe(\"target_50.pdb\", topology_format='PDB')\n",
    "protein_target = u_target.select_atoms(\"all\")\n",
    "protein_target[[8,10,9,51,53]]\n",
    "\n",
    "j=0\n",
    "g_saved_filename = \"/home/xxie92/Desktop/backup_for_dell_15/pdb_projects/code/jupterNotebooks/Mar_2021/visulization_constraint_model_res_0324/decoder/generate_data_from_model/same_2_and_10_aa_\"+\"_\"+str(j)+\".pdb\"\n",
    "u2_j0 = mda.Universe(g_saved_filename, topology_format='PDB')\n",
    "protein = u2_j0.select_atoms(\"all\")\n",
    "index = []\n"
   ]
  },
  {
   "cell_type": "code",
   "execution_count": null,
   "metadata": {},
   "outputs": [],
   "source": []
  },
  {
   "cell_type": "code",
   "execution_count": null,
   "metadata": {},
   "outputs": [],
   "source": []
  },
  {
   "cell_type": "code",
   "execution_count": 2,
   "metadata": {},
   "outputs": [
    {
     "name": "stdout",
     "output_type": "stream",
     "text": [
      "PyRosetta-4 2020 [Rosetta PyRosetta4.Release.python37.linux 2020.50+release.1295438cd4bd2be39c9dbbfab8db669ab62415ab 2020-12-12T00:30:01] retrieved from: http://www.pyrosetta.org\n",
      "(C) Copyright Rosetta Commons Member Institutions. Created in JHU by Sergey Lyskov and PyRosetta Team.\n",
      "\u001b[0mcore.init: \u001b[0mChecking for fconfig files in pwd and ./rosetta/flags\n",
      "\u001b[0mcore.init: \u001b[0mRosetta version: PyRosetta4.Release.python37.linux r274 2020.50+release.1295438 1295438cd4bd2be39c9dbbfab8db669ab62415ab http://www.pyrosetta.org 2020-12-12T00:30:01\n",
      "\u001b[0mcore.init: \u001b[0mcommand: PyRosetta -ex1 -ex2aro -database /home/xxie92/anaconda3/envs/protein/lib/python3.7/site-packages/pyrosetta-2020.50+release.1295438-py3.7-linux-x86_64.egg/pyrosetta/database\n",
      "\u001b[0mbasic.random.init_random_generator: \u001b[0m'RNG device' seed mode, using '/dev/urandom', seed=-862547433 seed_offset=0 real_seed=-862547433\n",
      "\u001b[0mbasic.random.init_random_generator: \u001b[0mRandomGenerator:init: Normal mode, seed=-862547433 RG_type=mt19937\n"
     ]
    }
   ],
   "source": [
    "import pyrosetta\n",
    "pyrosetta.init()"
   ]
  },
  {
   "cell_type": "code",
   "execution_count": 3,
   "metadata": {},
   "outputs": [
    {
     "name": "stdout",
     "output_type": "stream",
     "text": [
      "\u001b[0mcore.chemical.GlobalResidueTypeSet: \u001b[0mFinished initializing fa_standard residue type set.  Created 985 residue types\n",
      "\u001b[0mcore.chemical.GlobalResidueTypeSet: \u001b[0mTotal time to initialize 0.836552 seconds.\n",
      "\u001b[0mcore.import_pose.import_pose: \u001b[0mFile 'target_50.pdb' automatically determined to be of type PDB\n",
      "\u001b[0mcore.conformation.Conformation: \u001b[0m\u001b[1m[ WARNING ]\u001b[0m missing heavyatom:  O   on residue SER:NtermProteinFull 1\n",
      "\u001b[0mcore.conformation.Conformation: \u001b[0m\u001b[1m[ WARNING ]\u001b[0m missing heavyatom:  O   on residue LEU 2\n",
      "\u001b[0mcore.conformation.Conformation: \u001b[0m\u001b[1m[ WARNING ]\u001b[0m missing heavyatom:  CD1 on residue LEU 2\n",
      "\u001b[0mcore.conformation.Conformation: \u001b[0m\u001b[1m[ WARNING ]\u001b[0m missing heavyatom:  O   on residue ALA 3\n",
      "\u001b[0mcore.conformation.Conformation: \u001b[0m\u001b[1m[ WARNING ]\u001b[0m missing heavyatom:  O   on residue ILE 4\n",
      "\u001b[0mcore.conformation.Conformation: \u001b[0m\u001b[1m[ WARNING ]\u001b[0m missing heavyatom:  CG2 on residue ILE 4\n",
      "\u001b[0mcore.conformation.Conformation: \u001b[0m\u001b[1m[ WARNING ]\u001b[0m missing heavyatom:  O   on residue PRO 5\n",
      "\u001b[0mcore.conformation.Conformation: \u001b[0m\u001b[1m[ WARNING ]\u001b[0m missing heavyatom:  CD  on residue PRO 5\n",
      "\u001b[0mcore.conformation.Conformation: \u001b[0m\u001b[1m[ WARNING ]\u001b[0m missing heavyatom:  O   on residue GLU 6\n",
      "\u001b[0mcore.conformation.Conformation: \u001b[0m\u001b[1m[ WARNING ]\u001b[0m missing heavyatom:  CB  on residue GLU 6\n",
      "\u001b[0mcore.conformation.Conformation: \u001b[0m\u001b[1m[ WARNING ]\u001b[0m missing heavyatom:  OE2 on residue GLU 6\n",
      "\u001b[0mcore.conformation.Conformation: \u001b[0m\u001b[1m[ WARNING ]\u001b[0m missing heavyatom:  O   on residue LEU 7\n",
      "\u001b[0mcore.conformation.Conformation: \u001b[0m\u001b[1m[ WARNING ]\u001b[0m missing heavyatom:  CD1 on residue LEU 7\n",
      "\u001b[0mcore.conformation.Conformation: \u001b[0m\u001b[1m[ WARNING ]\u001b[0m missing heavyatom:  O   on residue MET 8\n",
      "\u001b[0mcore.conformation.Conformation: \u001b[0m\u001b[1m[ WARNING ]\u001b[0m missing heavyatom:  CB  on residue MET 8\n",
      "\u001b[0mcore.conformation.Conformation: \u001b[0m\u001b[1m[ WARNING ]\u001b[0m missing heavyatom:  O   on residue ARG 9\n",
      "\u001b[0mcore.conformation.Conformation: \u001b[0m\u001b[1m[ WARNING ]\u001b[0m missing heavyatom:  CB  on residue ARG 9\n",
      "\u001b[0mcore.conformation.Conformation: \u001b[0m\u001b[1m[ WARNING ]\u001b[0m missing heavyatom:  CG  on residue ARG 9\n",
      "\u001b[0mcore.conformation.Conformation: \u001b[0m\u001b[1m[ WARNING ]\u001b[0m missing heavyatom:  CD  on residue ARG 9\n",
      "\u001b[0mcore.conformation.Conformation: \u001b[0m\u001b[1m[ WARNING ]\u001b[0m missing heavyatom:  NH2 on residue ARG 9\n",
      "\u001b[0mcore.conformation.Conformation: \u001b[0m\u001b[1m[ WARNING ]\u001b[0m missing heavyatom:  O   on residue VAL 10\n",
      "\u001b[0mcore.conformation.Conformation: \u001b[0m\u001b[1m[ WARNING ]\u001b[0m missing heavyatom:  CG1 on residue VAL 10\n",
      "\u001b[0mcore.conformation.Conformation: \u001b[0m\u001b[1m[ WARNING ]\u001b[0m missing heavyatom:  CG2 on residue VAL 10\n",
      "\u001b[0mcore.conformation.Conformation: \u001b[0m\u001b[1m[ WARNING ]\u001b[0m missing heavyatom:  O   on residue LEU 11\n",
      "\u001b[0mcore.conformation.Conformation: \u001b[0m\u001b[1m[ WARNING ]\u001b[0m missing heavyatom:  CD1 on residue LEU 11\n",
      "\u001b[0mcore.conformation.Conformation: \u001b[0m\u001b[1m[ WARNING ]\u001b[0m missing heavyatom:  O   on residue VAL 12\n",
      "\u001b[0mcore.conformation.Conformation: \u001b[0m\u001b[1m[ WARNING ]\u001b[0m missing heavyatom:  CG1 on residue VAL 12\n",
      "\u001b[0mcore.conformation.Conformation: \u001b[0m\u001b[1m[ WARNING ]\u001b[0m missing heavyatom:  CG2 on residue VAL 12\n",
      "\u001b[0mcore.conformation.Conformation: \u001b[0m\u001b[1m[ WARNING ]\u001b[0m missing heavyatom:  O   on residue ASP 13\n",
      "\u001b[0mcore.conformation.Conformation: \u001b[0m\u001b[1m[ WARNING ]\u001b[0m missing heavyatom:  OD2 on residue ASP 13\n",
      "\u001b[0mcore.conformation.Conformation: \u001b[0m\u001b[1m[ WARNING ]\u001b[0m missing heavyatom:  O   on residue LEU:CtermProteinFull 14\n",
      "\u001b[0mcore.conformation.Conformation: \u001b[0m\u001b[1m[ WARNING ]\u001b[0m missing heavyatom:  OXT on residue LEU:CtermProteinFull 14\n",
      "\u001b[0mcore.conformation.Conformation: \u001b[0m\u001b[1m[ WARNING ]\u001b[0m missing heavyatom:  CD1 on residue LEU:CtermProteinFull 14\n",
      "\u001b[0mcore.pack.pack_missing_sidechains: \u001b[0mpacking residue number 2 because of missing atom number 7 atom name  CD1\n",
      "\u001b[0mcore.pack.pack_missing_sidechains: \u001b[0mpacking residue number 4 because of missing atom number 7 atom name  CG2\n",
      "\u001b[0mcore.pack.pack_missing_sidechains: \u001b[0mpacking residue number 5 because of missing atom number 7 atom name  CD\n",
      "\u001b[0mcore.pack.pack_missing_sidechains: \u001b[0mpacking residue number 6 because of missing atom number 5 atom name  CB\n",
      "\u001b[0mcore.pack.pack_missing_sidechains: \u001b[0mpacking residue number 7 because of missing atom number 7 atom name  CD1\n",
      "\u001b[0mcore.pack.pack_missing_sidechains: \u001b[0mpacking residue number 8 because of missing atom number 5 atom name  CB\n",
      "\u001b[0mcore.pack.pack_missing_sidechains: \u001b[0mpacking residue number 9 because of missing atom number 5 atom name  CB\n",
      "\u001b[0mcore.pack.pack_missing_sidechains: \u001b[0mpacking residue number 10 because of missing atom number 6 atom name  CG1\n",
      "\u001b[0mcore.pack.pack_missing_sidechains: \u001b[0mpacking residue number 11 because of missing atom number 7 atom name  CD1\n",
      "\u001b[0mcore.pack.pack_missing_sidechains: \u001b[0mpacking residue number 12 because of missing atom number 6 atom name  CG1\n",
      "\u001b[0mcore.pack.pack_missing_sidechains: \u001b[0mpacking residue number 13 because of missing atom number 8 atom name  OD2\n",
      "\u001b[0mcore.pack.pack_missing_sidechains: \u001b[0mpacking residue number 14 because of missing atom number 8 atom name  CD1\n",
      "\u001b[0mcore.pack.task: \u001b[0mPacker task: initialize from command line()\n",
      "\u001b[0mcore.scoring.ScoreFunctionFactory: \u001b[0mSCOREFUNCTION: \u001b[32mref2015\u001b[0m\n",
      "\u001b[0mcore.scoring.etable: \u001b[0mStarting energy table calculation\n",
      "\u001b[0mcore.scoring.etable: \u001b[0msmooth_etable: changing atr/rep split to bottom of energy well\n",
      "\u001b[0mcore.scoring.etable: \u001b[0msmooth_etable: spline smoothing lj etables (maxdis = 6)\n",
      "\u001b[0mcore.scoring.etable: \u001b[0msmooth_etable: spline smoothing solvation etables (max_dis = 6)\n",
      "\u001b[0mcore.scoring.etable: \u001b[0mFinished calculating energy tables.\n",
      "\u001b[0mbasic.io.database: \u001b[0mDatabase file opened: scoring/score_functions/hbonds/ref2015_params/HBPoly1D.csv\n",
      "\u001b[0mbasic.io.database: \u001b[0mDatabase file opened: scoring/score_functions/hbonds/ref2015_params/HBFadeIntervals.csv\n",
      "\u001b[0mbasic.io.database: \u001b[0mDatabase file opened: scoring/score_functions/hbonds/ref2015_params/HBEval.csv\n",
      "\u001b[0mbasic.io.database: \u001b[0mDatabase file opened: scoring/score_functions/hbonds/ref2015_params/DonStrength.csv\n",
      "\u001b[0mbasic.io.database: \u001b[0mDatabase file opened: scoring/score_functions/hbonds/ref2015_params/AccStrength.csv\n",
      "\u001b[0mbasic.io.database: \u001b[0mDatabase file opened: scoring/score_functions/rama/fd/all.ramaProb\n",
      "\u001b[0mbasic.io.database: \u001b[0mDatabase file opened: scoring/score_functions/rama/fd/prepro.ramaProb\n",
      "\u001b[0mbasic.io.database: \u001b[0mDatabase file opened: scoring/score_functions/omega/omega_ppdep.all.txt\n",
      "\u001b[0mbasic.io.database: \u001b[0mDatabase file opened: scoring/score_functions/omega/omega_ppdep.gly.txt\n",
      "\u001b[0mbasic.io.database: \u001b[0mDatabase file opened: scoring/score_functions/omega/omega_ppdep.pro.txt\n",
      "\u001b[0mbasic.io.database: \u001b[0mDatabase file opened: scoring/score_functions/omega/omega_ppdep.valile.txt\n",
      "\u001b[0mbasic.io.database: \u001b[0mDatabase file opened: scoring/score_functions/P_AA_pp/P_AA\n",
      "\u001b[0mbasic.io.database: \u001b[0mDatabase file opened: scoring/score_functions/P_AA_pp/P_AA_n\n",
      "\u001b[0mcore.scoring.P_AA: \u001b[0mshapovalov_lib::shap_p_aa_pp_smooth_level of 1( aka low_smooth ) got activated.\n",
      "\u001b[0mbasic.io.database: \u001b[0mDatabase file opened: scoring/score_functions/P_AA_pp/shapovalov/10deg/kappa131/a20.prop\n",
      "\u001b[0mbasic.io.database: \u001b[0mDatabase file opened: scoring/score_functions/elec_cp_reps.dat\n",
      "\u001b[0mcore.scoring.elec.util: \u001b[0mRead 40 countpair representative atoms\n",
      "\u001b[0mcore.pack.dunbrack.RotamerLibrary: \u001b[0mshapovalov_lib_fixes_enable option is true.\n",
      "\u001b[0mcore.pack.dunbrack.RotamerLibrary: \u001b[0mshapovalov_lib::shap_dun10_smooth_level of 1( aka lowest_smooth ) got activated.\n",
      "\u001b[0mcore.pack.dunbrack.RotamerLibrary: \u001b[0mBinary rotamer library selected: /home/xxie92/anaconda3/envs/protein/lib/python3.7/site-packages/pyrosetta-2020.50+release.1295438-py3.7-linux-x86_64.egg/pyrosetta/database/rotamer/shapovalov/StpDwn_0-0-0/Dunbrack10.lib.bin\n",
      "\u001b[0mcore.pack.dunbrack.RotamerLibrary: \u001b[0mUsing Dunbrack library binary file '/home/xxie92/anaconda3/envs/protein/lib/python3.7/site-packages/pyrosetta-2020.50+release.1295438-py3.7-linux-x86_64.egg/pyrosetta/database/rotamer/shapovalov/StpDwn_0-0-0/Dunbrack10.lib.bin'.\n",
      "\u001b[0mcore.pack.dunbrack.RotamerLibrary: \u001b[0mDunbrack 2010 library took 0.172849 seconds to load from binary\n"
     ]
    },
    {
     "name": "stdout",
     "output_type": "stream",
     "text": [
      "\u001b[0mcore.pack.pack_rotamers: \u001b[0mbuilt 72 rotamers at 12 positions.\n",
      "\u001b[0mcore.pack.interaction_graph.interaction_graph_factory: \u001b[0mInstantiating DensePDInteractionGraph\n"
     ]
    }
   ],
   "source": [
    "ras = pyrosetta.pose_from_pdb(\"target_50.pdb\")"
   ]
  },
  {
   "cell_type": "code",
   "execution_count": 4,
   "metadata": {},
   "outputs": [
    {
     "data": {
      "text/plain": [
       "True"
      ]
     },
     "execution_count": 4,
     "metadata": {},
     "output_type": "execute_result"
    }
   ],
   "source": [
    "ras.dump_pdb('rosetta_target_50.pdb')"
   ]
  },
  {
   "cell_type": "code",
   "execution_count": 7,
   "metadata": {},
   "outputs": [
    {
     "name": "stderr",
     "output_type": "stream",
     "text": [
      "/home/xxie92/anaconda3/envs/protein/lib/python3.7/site-packages/Bio/PDB/PDBParser.py:399: PDBConstructionWarning: Ignoring unrecognized record '# All ' at line 244\n",
      "  PDBConstructionWarning,\n",
      "/home/xxie92/anaconda3/envs/protein/lib/python3.7/site-packages/Bio/PDB/PDBParser.py:399: PDBConstructionWarning: Ignoring unrecognized record '#BEGIN' at line 245\n",
      "  PDBConstructionWarning,\n",
      "/home/xxie92/anaconda3/envs/protein/lib/python3.7/site-packages/Bio/PDB/PDBParser.py:399: PDBConstructionWarning: Ignoring unrecognized record 'label ' at line 246\n",
      "  PDBConstructionWarning,\n",
      "/home/xxie92/anaconda3/envs/protein/lib/python3.7/site-packages/Bio/PDB/PDBParser.py:399: PDBConstructionWarning: Ignoring unrecognized record 'weight' at line 247\n",
      "  PDBConstructionWarning,\n",
      "/home/xxie92/anaconda3/envs/protein/lib/python3.7/site-packages/Bio/PDB/PDBParser.py:399: PDBConstructionWarning: Ignoring unrecognized record 'pose -' at line 248\n",
      "  PDBConstructionWarning,\n",
      "/home/xxie92/anaconda3/envs/protein/lib/python3.7/site-packages/Bio/PDB/PDBParser.py:399: PDBConstructionWarning: Ignoring unrecognized record 'SER:Nt' at line 249\n",
      "  PDBConstructionWarning,\n",
      "/home/xxie92/anaconda3/envs/protein/lib/python3.7/site-packages/Bio/PDB/PDBParser.py:399: PDBConstructionWarning: Ignoring unrecognized record 'LEU_2 ' at line 250\n",
      "  PDBConstructionWarning,\n",
      "/home/xxie92/anaconda3/envs/protein/lib/python3.7/site-packages/Bio/PDB/PDBParser.py:399: PDBConstructionWarning: Ignoring unrecognized record 'ALA_3 ' at line 251\n",
      "  PDBConstructionWarning,\n",
      "/home/xxie92/anaconda3/envs/protein/lib/python3.7/site-packages/Bio/PDB/PDBParser.py:399: PDBConstructionWarning: Ignoring unrecognized record 'ILE_4 ' at line 252\n",
      "  PDBConstructionWarning,\n",
      "/home/xxie92/anaconda3/envs/protein/lib/python3.7/site-packages/Bio/PDB/PDBParser.py:399: PDBConstructionWarning: Ignoring unrecognized record 'PRO_5 ' at line 253\n",
      "  PDBConstructionWarning,\n",
      "/home/xxie92/anaconda3/envs/protein/lib/python3.7/site-packages/Bio/PDB/PDBParser.py:399: PDBConstructionWarning: Ignoring unrecognized record 'GLU_6 ' at line 254\n",
      "  PDBConstructionWarning,\n",
      "/home/xxie92/anaconda3/envs/protein/lib/python3.7/site-packages/Bio/PDB/PDBParser.py:399: PDBConstructionWarning: Ignoring unrecognized record 'LEU_7 ' at line 255\n",
      "  PDBConstructionWarning,\n",
      "/home/xxie92/anaconda3/envs/protein/lib/python3.7/site-packages/Bio/PDB/PDBParser.py:399: PDBConstructionWarning: Ignoring unrecognized record 'MET_8 ' at line 256\n",
      "  PDBConstructionWarning,\n",
      "/home/xxie92/anaconda3/envs/protein/lib/python3.7/site-packages/Bio/PDB/PDBParser.py:399: PDBConstructionWarning: Ignoring unrecognized record 'ARG_9 ' at line 257\n",
      "  PDBConstructionWarning,\n",
      "/home/xxie92/anaconda3/envs/protein/lib/python3.7/site-packages/Bio/PDB/PDBParser.py:399: PDBConstructionWarning: Ignoring unrecognized record 'VAL_10' at line 258\n",
      "  PDBConstructionWarning,\n",
      "/home/xxie92/anaconda3/envs/protein/lib/python3.7/site-packages/Bio/PDB/PDBParser.py:399: PDBConstructionWarning: Ignoring unrecognized record 'LEU_11' at line 259\n",
      "  PDBConstructionWarning,\n",
      "/home/xxie92/anaconda3/envs/protein/lib/python3.7/site-packages/Bio/PDB/PDBParser.py:399: PDBConstructionWarning: Ignoring unrecognized record 'VAL_12' at line 260\n",
      "  PDBConstructionWarning,\n",
      "/home/xxie92/anaconda3/envs/protein/lib/python3.7/site-packages/Bio/PDB/PDBParser.py:399: PDBConstructionWarning: Ignoring unrecognized record 'ASP_13' at line 261\n",
      "  PDBConstructionWarning,\n",
      "/home/xxie92/anaconda3/envs/protein/lib/python3.7/site-packages/Bio/PDB/PDBParser.py:399: PDBConstructionWarning: Ignoring unrecognized record 'LEU:Ct' at line 262\n",
      "  PDBConstructionWarning,\n",
      "/home/xxie92/anaconda3/envs/protein/lib/python3.7/site-packages/Bio/PDB/PDBParser.py:399: PDBConstructionWarning: Ignoring unrecognized record '#END_P' at line 263\n",
      "  PDBConstructionWarning,\n"
     ]
    }
   ],
   "source": [
    "saved_filename  = 'rosetta_target_50.pdb'\n",
    "parser = PDBParser()\n",
    "structure = parser.get_structure(\"x\",saved_filename)\n",
    "view5 = nv.show_biopython(structure)"
   ]
  },
  {
   "cell_type": "code",
   "execution_count": 8,
   "metadata": {},
   "outputs": [
    {
     "data": {
      "application/vnd.jupyter.widget-view+json": {
       "model_id": "0b664f434581482ebe171a0743f76b1d",
       "version_major": 2,
       "version_minor": 0
      },
      "text/plain": [
       "NGLWidget()"
      ]
     },
     "metadata": {},
     "output_type": "display_data"
    }
   ],
   "source": [
    "view5"
   ]
  },
  {
   "cell_type": "code",
   "execution_count": 9,
   "metadata": {},
   "outputs": [
    {
     "name": "stdout",
     "output_type": "stream",
     "text": [
      "\u001b[0mcore.import_pose.import_pose: \u001b[0mFile 'same_2_and_10_aa__0.pdb' automatically determined to be of type PDB\n",
      "\u001b[0mcore.conformation.Conformation: \u001b[0m\u001b[1m[ WARNING ]\u001b[0m missing heavyatom:  O   on residue GLY:NtermProteinFull 1\n",
      "\u001b[0mcore.conformation.Conformation: \u001b[0m\u001b[1m[ WARNING ]\u001b[0m missing heavyatom:  O   on residue LEU 2\n",
      "\u001b[0mcore.conformation.Conformation: \u001b[0m\u001b[1m[ WARNING ]\u001b[0m missing heavyatom:  CD1 on residue LEU 2\n",
      "\u001b[0mcore.conformation.Conformation: \u001b[0m\u001b[1m[ WARNING ]\u001b[0m missing heavyatom:  O   on residue PRO 3\n",
      "\u001b[0mcore.conformation.Conformation: \u001b[0m\u001b[1m[ WARNING ]\u001b[0m missing heavyatom:  CD  on residue PRO 3\n",
      "\u001b[0mcore.conformation.Conformation: \u001b[0m\u001b[1m[ WARNING ]\u001b[0m missing heavyatom:  O   on residue THR 4\n",
      "\u001b[0mcore.conformation.Conformation: \u001b[0m\u001b[1m[ WARNING ]\u001b[0m missing heavyatom:  OG1 on residue THR 4\n",
      "\u001b[0mcore.conformation.Conformation: \u001b[0m\u001b[1m[ WARNING ]\u001b[0m missing heavyatom:  O   on residue GLU 5\n",
      "\u001b[0mcore.conformation.Conformation: \u001b[0m\u001b[1m[ WARNING ]\u001b[0m missing heavyatom:  CB  on residue GLU 5\n",
      "\u001b[0mcore.conformation.Conformation: \u001b[0m\u001b[1m[ WARNING ]\u001b[0m missing heavyatom:  OE2 on residue GLU 5\n",
      "\u001b[0mcore.conformation.Conformation: \u001b[0m\u001b[1m[ WARNING ]\u001b[0m missing heavyatom:  O   on residue ALA 6\n",
      "\u001b[0mcore.conformation.Conformation: \u001b[0m\u001b[1m[ WARNING ]\u001b[0m missing heavyatom:  O   on residue ILE 7\n",
      "\u001b[0mcore.conformation.Conformation: \u001b[0m\u001b[1m[ WARNING ]\u001b[0m missing heavyatom:  CG2 on residue ILE 7\n",
      "\u001b[0mcore.conformation.Conformation: \u001b[0m\u001b[1m[ WARNING ]\u001b[0m missing heavyatom:  O   on residue VAL 8\n",
      "\u001b[0mcore.conformation.Conformation: \u001b[0m\u001b[1m[ WARNING ]\u001b[0m missing heavyatom:  CG1 on residue VAL 8\n",
      "\u001b[0mcore.conformation.Conformation: \u001b[0m\u001b[1m[ WARNING ]\u001b[0m missing heavyatom:  CG2 on residue VAL 8\n",
      "\u001b[0mcore.conformation.Conformation: \u001b[0m\u001b[1m[ WARNING ]\u001b[0m missing heavyatom:  O   on residue LEU 9\n",
      "\u001b[0mcore.conformation.Conformation: \u001b[0m\u001b[1m[ WARNING ]\u001b[0m missing heavyatom:  CD1 on residue LEU 9\n",
      "\u001b[0mcore.conformation.Conformation: \u001b[0m\u001b[1m[ WARNING ]\u001b[0m missing heavyatom:  O   on residue VAL 10\n",
      "\u001b[0mcore.conformation.Conformation: \u001b[0m\u001b[1m[ WARNING ]\u001b[0m missing heavyatom:  CG1 on residue VAL 10\n",
      "\u001b[0mcore.conformation.Conformation: \u001b[0m\u001b[1m[ WARNING ]\u001b[0m missing heavyatom:  CG2 on residue VAL 10\n",
      "\u001b[0mcore.conformation.Conformation: \u001b[0m\u001b[1m[ WARNING ]\u001b[0m missing heavyatom:  O   on residue LEU 11\n",
      "\u001b[0mcore.conformation.Conformation: \u001b[0m\u001b[1m[ WARNING ]\u001b[0m missing heavyatom:  CD1 on residue LEU 11\n",
      "\u001b[0mcore.conformation.Conformation: \u001b[0m\u001b[1m[ WARNING ]\u001b[0m missing heavyatom:  O   on residue ALA 12\n",
      "\u001b[0mcore.conformation.Conformation: \u001b[0m\u001b[1m[ WARNING ]\u001b[0m missing heavyatom:  O   on residue LEU 13\n",
      "\u001b[0mcore.conformation.Conformation: \u001b[0m\u001b[1m[ WARNING ]\u001b[0m missing heavyatom:  CD1 on residue LEU 13\n",
      "\u001b[0mcore.conformation.Conformation: \u001b[0m\u001b[1m[ WARNING ]\u001b[0m missing heavyatom:  O   on residue ASP:CtermProteinFull 14\n",
      "\u001b[0mcore.conformation.Conformation: \u001b[0m\u001b[1m[ WARNING ]\u001b[0m missing heavyatom:  OXT on residue ASP:CtermProteinFull 14\n",
      "\u001b[0mcore.conformation.Conformation: \u001b[0m\u001b[1m[ WARNING ]\u001b[0m missing heavyatom:  OD2 on residue ASP:CtermProteinFull 14\n",
      "\u001b[0mcore.pack.pack_missing_sidechains: \u001b[0mpacking residue number 2 because of missing atom number 7 atom name  CD1\n",
      "\u001b[0mcore.pack.pack_missing_sidechains: \u001b[0mpacking residue number 3 because of missing atom number 7 atom name  CD\n",
      "\u001b[0mcore.pack.pack_missing_sidechains: \u001b[0mpacking residue number 4 because of missing atom number 6 atom name  OG1\n",
      "\u001b[0mcore.pack.pack_missing_sidechains: \u001b[0mpacking residue number 5 because of missing atom number 5 atom name  CB\n",
      "\u001b[0mcore.pack.pack_missing_sidechains: \u001b[0mpacking residue number 7 because of missing atom number 7 atom name  CG2\n",
      "\u001b[0mcore.pack.pack_missing_sidechains: \u001b[0mpacking residue number 8 because of missing atom number 6 atom name  CG1\n",
      "\u001b[0mcore.pack.pack_missing_sidechains: \u001b[0mpacking residue number 9 because of missing atom number 7 atom name  CD1\n",
      "\u001b[0mcore.pack.pack_missing_sidechains: \u001b[0mpacking residue number 10 because of missing atom number 6 atom name  CG1\n",
      "\u001b[0mcore.pack.pack_missing_sidechains: \u001b[0mpacking residue number 11 because of missing atom number 7 atom name  CD1\n",
      "\u001b[0mcore.pack.pack_missing_sidechains: \u001b[0mpacking residue number 13 because of missing atom number 7 atom name  CD1\n",
      "\u001b[0mcore.pack.pack_missing_sidechains: \u001b[0mpacking residue number 14 because of missing atom number 9 atom name  OD2\n",
      "\u001b[0mcore.pack.task: \u001b[0mPacker task: initialize from command line()\n",
      "\u001b[0mcore.scoring.ScoreFunctionFactory: \u001b[0mSCOREFUNCTION: \u001b[32mref2015\u001b[0m\n",
      "\u001b[0mcore.pack.pack_rotamers: \u001b[0mbuilt 96 rotamers at 11 positions.\n",
      "\u001b[0mcore.pack.interaction_graph.interaction_graph_factory: \u001b[0mInstantiating DensePDInteractionGraph\n"
     ]
    }
   ],
   "source": [
    "ras_0 = pyrosetta.pose_from_pdb(\"same_2_and_10_aa__0.pdb\")"
   ]
  },
  {
   "cell_type": "code",
   "execution_count": 10,
   "metadata": {},
   "outputs": [
    {
     "data": {
      "text/plain": [
       "True"
      ]
     },
     "execution_count": 10,
     "metadata": {},
     "output_type": "execute_result"
    }
   ],
   "source": [
    "ras_0.dump_pdb(\"rosetta_same_2_and_10_aa__0.pdb\")"
   ]
  },
  {
   "cell_type": "code",
   "execution_count": null,
   "metadata": {},
   "outputs": [],
   "source": []
  }
 ],
 "metadata": {
  "kernelspec": {
   "display_name": "Python 3",
   "language": "python",
   "name": "python3"
  },
  "language_info": {
   "codemirror_mode": {
    "name": "ipython",
    "version": 3
   },
   "file_extension": ".py",
   "mimetype": "text/x-python",
   "name": "python",
   "nbconvert_exporter": "python",
   "pygments_lexer": "ipython3",
   "version": "3.7.9"
  }
 },
 "nbformat": 4,
 "nbformat_minor": 4
}
